{
 "cells": [
  {
   "cell_type": "markdown",
   "id": "de8096e5-7d19-4aa5-9944-5da77a7d2dd3",
   "metadata": {},
   "source": [
    "## Data Collection !!\n",
    "-------------------------\n",
    "\n",
    "\n",
    "    In this notebook, we will collect data of user hashtag !!"
   ]
  },
  {
   "cell_type": "code",
   "execution_count": 3,
   "id": "85e52723-7307-4230-bf46-2708668f3ffd",
   "metadata": {},
   "outputs": [],
   "source": [
    "# ! pip install instaloader"
   ]
  },
  {
   "cell_type": "code",
   "execution_count": 4,
   "id": "18318c05-4f1c-4f15-b4ed-024d392777b5",
   "metadata": {},
   "outputs": [],
   "source": [
    "\n",
    "\n",
    "    \n",
    "\n",
    "# !pip install instaloader\n",
    "\n",
    "\n",
    "\n",
    "import threading\n",
    "from instaloader import Instaloader, Profile\n",
    "from itertools import dropwhile, takewhile\n",
    "from datetime import date, datetime\n",
    "from datetime import timedelta\n",
    "from instaloader.exceptions import BadResponseException\n",
    "import time\n",
    "import pandas as pd\n",
    "\n",
    "\n",
    "\n",
    "\n",
    "USER=\"abbi13011995\"\n",
    "PASSWORD = \"3.141592653589\"\n",
    "\n",
    "\n",
    "def login(USER, PASSWORD):\n",
    "    \"\"\" \n",
    "        Returns loaders \n",
    "    \n",
    "        PARAMETER:\n",
    "            USER : Instagram Username\n",
    "            PASSWORD : Instagram Password\n",
    "    \"\"\"\n",
    "    loader = Instaloader()\n",
    "    loader.login(USER, PASSWORD)  \n",
    "    return loader\n",
    "    \n",
    "def get_users(hashtag=None, loader=None):\n",
    "    \"\"\"\n",
    "    \n",
    "    Parameters :\n",
    "        hashtag - Input hashtag in string format without '#'\n",
    "                  eg. get_users(hashtag=\"Photography\", loader=loader)\n",
    "    \n",
    "    Return :\n",
    "        user : list\n",
    "            unique set of username\n",
    "    \n",
    "    \"\"\"\n",
    "    # get posts object \n",
    "    posts = loader.get_hashtag_posts(hashtag)\n",
    "\n",
    "    # Get today, yesterday and day_before_yesterday dates !\n",
    "    today = datetime.now()\n",
    "    yesterday = today - timedelta(days = 1)\n",
    "    day_before_yesterday = today - timedelta(days = 2)\n",
    "\n",
    "    # Deciding dates for which posts need to be extracted !\n",
    "    SINCE = today\n",
    "    UNTIL = day_before_yesterday\n",
    "\n",
    "    # Max user count !\n",
    "    count_break = 50\n",
    "    count = 0\n",
    "    exception_count = 0\n",
    "    # get users !\n",
    "    users = []\n",
    "    for post in takewhile(lambda p: p.date > UNTIL, dropwhile(lambda p: p.date > SINCE, posts)):\n",
    "        time.sleep(2)\n",
    "        try:\n",
    "            profile = post.owner_profile\n",
    "            users.append(profile.username)\n",
    "            count+=1\n",
    "            if count>count_break:\n",
    "                break;\n",
    "        except BadResponseException:\n",
    "            exception_count +=1\n",
    "    print(\"total count : \", count)\n",
    "    print(\"total exception count: \", exception_count)\n",
    "    return list(set(users))\n",
    "\n"
   ]
  },
  {
   "cell_type": "markdown",
   "id": "961dd611-9871-4490-9b66-108e2df86031",
   "metadata": {},
   "source": [
    "### a. Login into instaloader"
   ]
  },
  {
   "cell_type": "code",
   "execution_count": 5,
   "id": "c0b9a90b-f05d-4609-8403-43a3f3dc028c",
   "metadata": {},
   "outputs": [],
   "source": [
    "USER = \"abbi13011995\"\n",
    "PASSWORD = \"3.141592653589\"\n",
    "\n",
    "\n",
    "loader=login(USER, PASSWORD)\n"
   ]
  },
  {
   "cell_type": "markdown",
   "id": "ed1b919d-2b7a-4177-b811-41cda6e8ccc3",
   "metadata": {},
   "source": [
    "### b. Hashtag whose data need to be collected"
   ]
  },
  {
   "cell_type": "code",
   "execution_count": 13,
   "id": "16b4e6d2-7191-49d4-af73-751aaec72e81",
   "metadata": {},
   "outputs": [
    {
     "name": "stdout",
     "output_type": "stream",
     "text": [
      "total count :  3\n",
      "total exception count:  0\n"
     ]
    }
   ],
   "source": [
    "hashtag = \"Kyodai\"\n",
    "users = get_users(hashtag=hashtag, loader=loader)"
   ]
  },
  {
   "cell_type": "code",
   "execution_count": null,
   "id": "281a7318-ba0a-4f25-b489-64c0e6f68773",
   "metadata": {},
   "outputs": [],
   "source": []
  },
  {
   "cell_type": "markdown",
   "id": "2671a2cb-81bc-4e2c-ba72-428aa977d2a1",
   "metadata": {},
   "source": [
    "### c. Reading UserList.csv data "
   ]
  },
  {
   "cell_type": "code",
   "execution_count": 14,
   "id": "74e390ae-e321-4140-a137-d785e45c926d",
   "metadata": {},
   "outputs": [],
   "source": [
    "\n",
    "df_userlist = pd.read_csv(\"data/UserList.csv\")\n",
    "existing_users = df_userlist.iloc[:,0].values.tolist()"
   ]
  },
  {
   "cell_type": "markdown",
   "id": "deb6c99c-cbaa-46f2-a3a3-3cff738df18d",
   "metadata": {},
   "source": [
    "### d. checking if new users aren't in the existing users list !"
   ]
  },
  {
   "cell_type": "code",
   "execution_count": 15,
   "id": "ea09e7a3-a6cf-41c7-ba36-daa907cd0c78",
   "metadata": {},
   "outputs": [],
   "source": [
    "\n",
    "\n",
    "existing_users = set(existing_users)\n",
    "users = set(users)\n",
    "new_users = users.difference(existing_users)\n",
    "\n",
    "# Saving the data into DATA folder !!\n",
    "df = pd.DataFrame(data=new_users, columns=[\"users\"])\n",
    "df[\"pic_like_status\"] = \"False\"\n",
    "df[\"userid_collection_date\"] = date.today()\n",
    "df[\"pic_like_date\"] = \"\"\n",
    "\n",
    "# appending the dataframes together and saving the list\n",
    "df_userlist = df_userlist.append(df)\n",
    "df_userlist.to_csv(\"data/UserList.csv\", index=None)"
   ]
  },
  {
   "cell_type": "code",
   "execution_count": null,
   "id": "360e88e1-68f3-4b51-a2cc-5a92568dbab7",
   "metadata": {},
   "outputs": [],
   "source": []
  },
  {
   "cell_type": "code",
   "execution_count": null,
   "id": "001bb91b-beb3-4744-9348-b0b02e7ef06b",
   "metadata": {},
   "outputs": [],
   "source": []
  },
  {
   "cell_type": "code",
   "execution_count": 7,
   "id": "330d9a18-624e-4f59-b98f-7d4dc3136c8d",
   "metadata": {},
   "outputs": [],
   "source": [
    "# import pandas as pd\n",
    "# import numpy as np\n",
    "# data = [[np.nan, np.nan, np.nan, np.nan]]\n",
    "# df=pd.DataFrame(data = data, columns=[\"users\", \"pic_like_status\", \"userid_collection_date\", \"pic_like_date\"])\n",
    "# df.to_csv(\"data/UserList.csv\", index=None)"
   ]
  },
  {
   "cell_type": "code",
   "execution_count": null,
   "id": "0c190356-ff9b-48b1-af54-38eeec9955fc",
   "metadata": {},
   "outputs": [],
   "source": []
  }
 ],
 "metadata": {
  "kernelspec": {
   "display_name": "Python 3 (ipykernel)",
   "language": "python",
   "name": "python3"
  },
  "language_info": {
   "codemirror_mode": {
    "name": "ipython",
    "version": 3
   },
   "file_extension": ".py",
   "mimetype": "text/x-python",
   "name": "python",
   "nbconvert_exporter": "python",
   "pygments_lexer": "ipython3",
   "version": "3.8.12"
  }
 },
 "nbformat": 4,
 "nbformat_minor": 5
}
