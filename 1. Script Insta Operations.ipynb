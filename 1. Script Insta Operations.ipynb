{
 "cells": [
  {
   "cell_type": "code",
   "execution_count": null,
   "id": "4967c864-b10e-408d-af3d-9b001534b6b4",
   "metadata": {},
   "outputs": [],
   "source": [
    "# ! pip install webdriver-manager"
   ]
  },
  {
   "cell_type": "code",
   "execution_count": null,
   "id": "f4786535-5206-43b9-9b12-00fff87702a0",
   "metadata": {},
   "outputs": [],
   "source": []
  },
  {
   "cell_type": "code",
   "execution_count": 1,
   "id": "54d1bbad-847c-43cd-969b-be20047178a2",
   "metadata": {},
   "outputs": [],
   "source": [
    "import pandas as pd\n",
    "import numpy as np\n",
    "import re\n",
    "from selenium import webdriver\n",
    "from selenium.webdriver.common.keys import Keys\n",
    "from selenium.common.exceptions import NoSuchElementException\n",
    "from selenium.webdriver.chrome.options import Options\n",
    "from selenium import webdriver\n",
    "from webdriver_manager.chrome import ChromeDriverManager\n",
    "from selenium.webdriver.common.by import By\n",
    "import time\n",
    "import csv\n",
    "import traceback"
   ]
  },
  {
   "cell_type": "code",
   "execution_count": 2,
   "id": "7f6c0802-c0ff-4908-a501-ba84b0b9eecf",
   "metadata": {},
   "outputs": [],
   "source": [
    "\n",
    "\n",
    "\n",
    "class InstagramBot:\n",
    "    \"\"\"\n",
    "    Functions: \n",
    "        1. login\n",
    "        2. profile\n",
    "        3. accountPrivacy\n",
    "        4. countPosts\n",
    "        5. likePhotos\n",
    "        6. likeStory\n",
    "    \n",
    "    \"\"\"\n",
    "    \n",
    "    \n",
    "    def __init__(self, user=None, pwd= None):\n",
    "        self.username = user\n",
    "        self.password = pwd\n",
    "        self.bot = webdriver.Chrome(ChromeDriverManager(version=\"101.0.4951.41\").install())\n",
    "        \n",
    "        \n",
    "    def login(self):\n",
    "        bot = self.bot\n",
    "        bot.get('https://www.instagram.com/accounts/login/')\n",
    "        time.sleep(3)\n",
    "        email = bot.find_element_by_name('username').send_keys(self.username)\n",
    "        password = bot.find_element_by_name('password').send_keys(self.password + Keys.RETURN)\n",
    "\n",
    "        time.sleep(3)\n",
    "      \n",
    "    def profile(self, user):\n",
    "        ''' '''\n",
    "        time.sleep(3)\n",
    "        bot = self.bot\n",
    "        bot.get('https://www.instagram.com/{}'.format(user))\n",
    "        time.sleep(3)\n",
    "               \n",
    "    def accountPrivacy(self):\n",
    "        ''' Returns True if account is private, else False. '''\n",
    "        bot = self.bot\n",
    "        \n",
    "        try:\n",
    "            privacy_text = bot.find_element(By.XPATH,\"//h2 [@class='rkEop']\").text\n",
    "            if privacy_text == \"This account is private\":\n",
    "                return True\n",
    "            else:\n",
    "                return False\n",
    "        except NoSuchElementException:\n",
    "            return False\n",
    "\n",
    "    def countPosts(self):\n",
    "        '''returns the posts count in text form. '''\n",
    "        bot = self.bot\n",
    "        try:\n",
    "            # suppose the username doesnot exits then try and exist will handle the case with non existant user return 0.\n",
    "            posts = bot.find_element(By.XPATH,\"//span[@class='g47SY ']\").text\n",
    "            return posts\n",
    "        \n",
    "        except NoSuchElementException:\n",
    "            return '0'\n",
    "        \n",
    "    def likePhotos(self,amount = 3):\n",
    "        ''' This program likes the picture'''\n",
    "        bot = self.bot\n",
    "        try:\n",
    "            bot.find_element_by_class_name('v1Nh3').click()\n",
    "\n",
    "            i = 1\n",
    "            while i <= amount:\n",
    "                time.sleep(4 + np.random.randint(1,6))\n",
    "                \n",
    "                # for liking picture\n",
    "                bot.find_element_by_class_name('fr66n').click()\n",
    "                time.sleep(1 + np.random.randint(2, 5))\n",
    "                \n",
    "                # for clicking next picture \n",
    "                bot.find_element(By.XPATH,\"//button [@class='wpO6b  ']//*[@aria-label='Next']\" ).click()\n",
    "                time.sleep(1 + np.random.randint(3,5))\n",
    "                i += 1\n",
    "            return 0\n",
    "        \n",
    "        except NoSuchElementException:\n",
    "            return print(\"Error Found \")\n",
    "    \n",
    "    def likeStory(self):\n",
    "        \"\"\"\n",
    "        Open story, Likes Story and then close the story\n",
    "        \"\"\"\n",
    "\n",
    "        bot = self.bot\n",
    "        try:\n",
    "            # Open Story !!\n",
    "            bot.find_element_by_class_name(\"RR-M- \").click()\n",
    "            \n",
    "            time.sleep(2)\n",
    "\n",
    "            # Like story !\n",
    "            bot.find_element(By.XPATH,\"//div [@class='EgD-3']\").click()\n",
    "            \n",
    "            time.sleep(1)\n",
    "            # Close Story !\n",
    "            bot.find_element_by_class_name(\"aUIsh\").click()\n",
    "\n",
    "        except NoSuchElementException:\n",
    "            pass\n",
    "\n",
    "\n",
    "\n",
    " "
   ]
  },
  {
   "cell_type": "markdown",
   "id": "5fafdb27-9e79-4de5-9639-ea6e8fd4e75f",
   "metadata": {},
   "source": [
    "### 1. LOGIN ID AND PASSWORD\n"
   ]
  },
  {
   "cell_type": "code",
   "execution_count": 3,
   "id": "33486a7a-e2a2-43de-8bca-450ce15cf79e",
   "metadata": {},
   "outputs": [],
   "source": [
    "user=\"abbi13011995\"\n",
    "pwd = \"3.141592653589\""
   ]
  },
  {
   "cell_type": "markdown",
   "id": "6da3d279-d06d-4a85-a4a0-70ef45434018",
   "metadata": {},
   "source": [
    "### 2. LOGIN INTO INSTAGRAM !!"
   ]
  },
  {
   "cell_type": "code",
   "execution_count": 4,
   "id": "9d963137-23ac-4cc2-bc51-4bd63c258410",
   "metadata": {},
   "outputs": [
    {
     "name": "stderr",
     "output_type": "stream",
     "text": [
      "\n",
      "\n",
      "====== WebDriver manager ======\n",
      "Driver [/Users/abbi163/.wdm/drivers/chromedriver/mac64/101.0.4951.41/chromedriver] found in cache\n"
     ]
    }
   ],
   "source": [
    "insta = InstagramBot(user=user, pwd=pwd)\n",
    "insta.login()"
   ]
  },
  {
   "cell_type": "markdown",
   "id": "cc53097d-c3bf-425e-a93f-a408f001c332",
   "metadata": {},
   "source": [
    "### 3. OPEN USER PROFILE BY PROVIDING THERE USER ID"
   ]
  },
  {
   "cell_type": "code",
   "execution_count": 5,
   "id": "a460323a-d0dc-49c6-8dcc-f11affaf8b84",
   "metadata": {},
   "outputs": [],
   "source": [
    "friend_id = \"fgasaurav\"\n",
    "insta.profile(friend_id)"
   ]
  },
  {
   "cell_type": "markdown",
   "id": "bcddaed5-ad4b-4c8a-b775-646df16e2f72",
   "metadata": {},
   "source": [
    "### 4. CHECK IF THE USER ACCOUNT IS PRIVATE OR PUBLIC\n",
    "    If account is private, it will return True, else it will return False"
   ]
  },
  {
   "cell_type": "code",
   "execution_count": null,
   "id": "2d0c596e-37b5-4f26-94c3-f897f6402924",
   "metadata": {},
   "outputs": [],
   "source": [
    "insta.accountPrivacy()"
   ]
  },
  {
   "cell_type": "markdown",
   "id": "a02804ad-3758-488b-8c2e-e5a27dcf47f1",
   "metadata": {},
   "source": [
    "### 5. COUNT THE POST OF THE USER !! \n",
    "\n",
    "    Count only if the user account is public"
   ]
  },
  {
   "cell_type": "code",
   "execution_count": 6,
   "id": "276543e7-0d1e-4746-a155-b6ba489e6d80",
   "metadata": {},
   "outputs": [
    {
     "data": {
      "text/plain": [
       "'278'"
      ]
     },
     "execution_count": 6,
     "metadata": {},
     "output_type": "execute_result"
    }
   ],
   "source": [
    "insta.countPosts()"
   ]
  },
  {
   "cell_type": "markdown",
   "id": "4f343713-6a44-4112-ba73-9bc3445cab8d",
   "metadata": {},
   "source": [
    "### 6. LIKE PICTURE OF THE USER !!\n",
    "\n",
    "    Like picture only when the profile page is already open and account is public. \n",
    "    Thus follow step 3, and step 4 first !!"
   ]
  },
  {
   "cell_type": "code",
   "execution_count": null,
   "id": "eca4b3a5-b1bd-4aa8-be9a-f04c135b3f57",
   "metadata": {},
   "outputs": [],
   "source": [
    "insta.likePhotos(amount=3)"
   ]
  },
  {
   "cell_type": "markdown",
   "id": "91f10982-9889-4cfc-a9a9-15401aeb1130",
   "metadata": {},
   "source": [
    "### 7. Like Story !!\n",
    "\n",
    "    Like story only when the profile page is already open and account is public. \n",
    "    Thus follow step 3, and step 4 first !!"
   ]
  },
  {
   "cell_type": "code",
   "execution_count": 7,
   "id": "de06e041-4d05-4a80-b92f-b5efcf1c998b",
   "metadata": {},
   "outputs": [],
   "source": [
    "insta.likeStory()"
   ]
  },
  {
   "cell_type": "code",
   "execution_count": null,
   "id": "600001cb-7577-4a43-b117-b438c57afc63",
   "metadata": {},
   "outputs": [],
   "source": []
  },
  {
   "cell_type": "code",
   "execution_count": null,
   "id": "dfd647c8-8d67-49a0-9b07-1c7fe113f5ce",
   "metadata": {},
   "outputs": [],
   "source": []
  }
 ],
 "metadata": {
  "kernelspec": {
   "display_name": "Python 3 (ipykernel)",
   "language": "python",
   "name": "python3"
  },
  "language_info": {
   "codemirror_mode": {
    "name": "ipython",
    "version": 3
   },
   "file_extension": ".py",
   "mimetype": "text/x-python",
   "name": "python",
   "nbconvert_exporter": "python",
   "pygments_lexer": "ipython3",
   "version": "3.9.7"
  }
 },
 "nbformat": 4,
 "nbformat_minor": 5
}
